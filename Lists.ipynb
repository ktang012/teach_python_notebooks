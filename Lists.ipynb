{
 "cells": [
  {
   "cell_type": "markdown",
   "metadata": {},
   "source": [
    "## Quick Jupyter Notebook Introduction\n",
    "* Run the code in a cell by selecting it and then pressing `Shift` + `Enter`.\n",
    "* If you edit a text cell (markdown cell), you can do `Shift` + `Enter` exit editing that cell.\n",
    "* You can edit the code within a code cell.\n",
    "* To make a copy of the notebook go to https://mybinder.org/ and enter the following url: "
   ]
  },
  {
   "cell_type": "markdown",
   "metadata": {},
   "source": [
    "### Review\n",
    "`range(n)` creates a sequence of numbers from `0` to `n-1`\n",
    "\n",
    "`range(4,10)` creates a sequence of numbers from `4` to `7`"
   ]
  },
  {
   "cell_type": "code",
   "execution_count": null,
   "metadata": {},
   "outputs": [],
   "source": [
    "for i in range(4,8):\n",
    "    print(i)"
   ]
  },
  {
   "cell_type": "markdown",
   "metadata": {},
   "source": [
    "While the expression is `True`, we keep repeating the loop!\n",
    "\n",
    "We can break out of a a while loop using `break`.\n",
    "\n",
    "If there is an infinite loop, do `CTRL` + `C` to exit the program. When you're using a Jupyter notebook, you can instead go to \"Kernel\", and select \"Interrupt\" to stop executing the current cell."
   ]
  },
  {
   "cell_type": "code",
   "execution_count": null,
   "metadata": {},
   "outputs": [],
   "source": [
    "n = 5\n",
    "while (0 < n < 10):\n",
    "    if n == 1:\n",
    "        break\n",
    "    print(n)\n",
    "    n -= 1"
   ]
  },
  {
   "cell_type": "markdown",
   "metadata": {},
   "source": [
    "### Lists\n",
    "Lists are used to store arbitrary elements. They're useful for storing elements we want to access sequentially, that is, accessing them one after the other in the order in which they are stored.\n",
    "\n",
    "Lists use zero based indexing, where we access the first element using index `0` and the last element by `n-1`, where `n` is the length of the list."
   ]
  },
  {
   "cell_type": "code",
   "execution_count": null,
   "metadata": {},
   "outputs": [],
   "source": [
    "my_list = [1,2,3,False,\"Hello\"]\n",
    "\n",
    "print(my_list[0])\n",
    "print(my_list[4])"
   ]
  },
  {
   "cell_type": "markdown",
   "metadata": {},
   "source": [
    "What happens if we try to access an element that is out of bounds?"
   ]
  },
  {
   "cell_type": "code",
   "execution_count": null,
   "metadata": {},
   "outputs": [],
   "source": [
    "my_list[5] # out of bounds"
   ]
  },
  {
   "cell_type": "markdown",
   "metadata": {},
   "source": [
    "We can get the length of a list by calling the function `len()` and passing the list in as an *argument*."
   ]
  },
  {
   "cell_type": "code",
   "execution_count": null,
   "metadata": {},
   "outputs": [],
   "source": [
    "my_list = [1,2,3,4,5]\n",
    "len(my_list)"
   ]
  },
  {
   "cell_type": "markdown",
   "metadata": {},
   "source": [
    "Here are a list of common `list` methods:\n",
    "1. `list.append(x)` - add an item `x` to the *end* of the list\n",
    "2. `list.insert(i,x)` - insert an item `x` into position `i`\n",
    "3. `list.pop(i)` - remove the element at position `i`, if i is not given, then remove the *last* element. The popped element is also returned."
   ]
  },
  {
   "cell_type": "code",
   "execution_count": null,
   "metadata": {},
   "outputs": [],
   "source": [
    "my_list = [] # empty list\n",
    "\n",
    "my_list.append(\"Hello World!\")\n",
    "my_list.append(12)\n",
    "my_list.append(55)\n",
    "\n",
    "print(my_list[0])\n",
    "print(my_list[1])\n",
    "print(my_list[2])\n",
    "print(\"Length of list: \", len(my_list))\n",
    "\n",
    "my_list.insert(1, 100)\n",
    "print(my_list[1])\n",
    "print(my_list[2])\n",
    "print(\"Length of list after inserting:\", len(my_list))\n",
    "\n",
    "x = my_list.pop() # pops last element\n",
    "print(\"Length of list after popping:\", len(my_list))\n",
    "print(\"Popped element: \", x)"
   ]
  },
  {
   "cell_type": "markdown",
   "metadata": {},
   "source": [
    "* Appending an element to the end of the list is quick\n",
    "* Removing an element from the end of the list is quick\n",
    "* Inserting an element into a list that is NOT the beginning is slow because we need to move everything back a spot to make room for the element\n",
    "* Removing an element from a list that is NOT the beginning is slow because we need to move everything up a spot to fill up the empty spot"
   ]
  },
  {
   "cell_type": "markdown",
   "metadata": {},
   "source": [
    "We can also iterate over a `list` using a `for` loop or `while` loop."
   ]
  },
  {
   "cell_type": "code",
   "execution_count": null,
   "metadata": {},
   "outputs": [],
   "source": [
    "my_list = [2,4,6,7,12,10]\n",
    "# iterating by element\n",
    "for n in my_list:\n",
    "    print(n)"
   ]
  },
  {
   "cell_type": "code",
   "execution_count": null,
   "metadata": {},
   "outputs": [],
   "source": [
    "# iterating by index\n",
    "for i in range(len(my_list)):\n",
    "    print(my_list[i])"
   ]
  },
  {
   "cell_type": "code",
   "execution_count": null,
   "metadata": {},
   "outputs": [],
   "source": [
    "# iterating using while loop\n",
    "i = 0 # i is used as the index\n",
    "while i < len(my_list):\n",
    "    print(my_list[i])\n",
    "    i += 1 # go to next index"
   ]
  },
  {
   "cell_type": "markdown",
   "metadata": {},
   "source": [
    "We can also select certain parts of a list and get a sublist. This returns a new list with the selected elements.\n",
    "\n",
    "We specify a starting index `i` and an ending index `j`, where `A[i:j]` selects the elements from `i` up to but *not* including `j`. \n",
    "\n",
    "If we don't specify `i`, then we assume it's start and if we don't specify `j`, then we assume it's the end."
   ]
  },
  {
   "cell_type": "code",
   "execution_count": null,
   "metadata": {},
   "outputs": [],
   "source": [
    "my_list = [10,9,8,7,6,5,4,3,2,1]\n",
    "\n",
    "print(my_list[:3])\n",
    "print(my_list[1:3])\n",
    "print(my_list[4:])"
   ]
  },
  {
   "cell_type": "markdown",
   "metadata": {},
   "source": [
    "## Example\n",
    "Write a function returns the sum of a list."
   ]
  },
  {
   "cell_type": "code",
   "execution_count": null,
   "metadata": {},
   "outputs": [],
   "source": [
    "def my_sum(l):\n",
    "    pass"
   ]
  },
  {
   "cell_type": "markdown",
   "metadata": {},
   "source": [
    "## Exercises\n",
    "#### Exercise 1\n",
    "Write a function that computes the product of all entered numbers. When \"Done\" is entered, compute and print the *factors* and the product. Ignore any other non-numeric inputs.\n",
    "* Example: input is `5`, `3`, `2`, `Hello`, `5`, `Done`, where each input is followed by `Enter`, \n",
    "      then output is `5 * 3 * 2 * 5 = 150`\n",
    "* You will need to use `int()` to cast the input from string to integer."
   ]
  },
  {
   "cell_type": "code",
   "execution_count": null,
   "metadata": {},
   "outputs": [],
   "source": [
    "def my_product():\n",
    "    numbers = []\n",
    "    while True:\n",
    "        user_input = input(\">\")\n",
    "        \n",
    "        # your code here\n",
    "    \n",
    "    return product"
   ]
  },
  {
   "cell_type": "code",
   "execution_count": null,
   "metadata": {},
   "outputs": [],
   "source": [
    "my_product()"
   ]
  },
  {
   "cell_type": "markdown",
   "metadata": {},
   "source": [
    "#### Exercise 2\n",
    "Create a new list whose elements are in the reversed order of the original list.\n",
    "* Follow-up: Can you do this in-place?"
   ]
  },
  {
   "cell_type": "code",
   "execution_count": null,
   "metadata": {},
   "outputs": [],
   "source": [
    "def reverse(my_list):\n",
    "    reversed_list = []\n",
    "    \n",
    "    # your code here\n",
    "    \n",
    "    return reversed_list"
   ]
  },
  {
   "cell_type": "code",
   "execution_count": null,
   "metadata": {},
   "outputs": [],
   "source": [
    "reverse([1,2,3,4,5])"
   ]
  },
  {
   "cell_type": "markdown",
   "metadata": {},
   "source": [
    "#### Exercise 3\n",
    "Compute the sum of each element and its adjacent neighbors in a list. Store the results in a list.\n",
    "* Example: input is `[1,2,3,4,5]`, then output is `[3,6,9,12,9]`\n",
    "* Be careful with going out of bounds!"
   ]
  },
  {
   "cell_type": "code",
   "execution_count": null,
   "metadata": {},
   "outputs": [],
   "source": [
    "def adjacent_sum(my_list):\n",
    "    sum_list = []\n",
    "    \n",
    "    # your code here\n",
    "    \n",
    "    return sum_list"
   ]
  },
  {
   "cell_type": "code",
   "execution_count": null,
   "metadata": {},
   "outputs": [],
   "source": [
    "reverse([1,2,3,4,5])"
   ]
  },
  {
   "cell_type": "markdown",
   "metadata": {},
   "source": [
    "#### Exercise 4\n",
    "Sort a list in ascending order. Do this in-place.\n",
    "* Hint: Keep one part of the list sorted\n",
    "* Follow-up: How long does your method take? "
   ]
  },
  {
   "cell_type": "code",
   "execution_count": null,
   "metadata": {},
   "outputs": [],
   "source": [
    "def sort(my_list):\n",
    "    # your code here\n",
    "    \n",
    "    return my_list # modify my_list in-place"
   ]
  },
  {
   "cell_type": "code",
   "execution_count": null,
   "metadata": {},
   "outputs": [],
   "source": [
    "sort([50,12,-1,20,3,2,4,4])"
   ]
  },
  {
   "cell_type": "markdown",
   "metadata": {},
   "source": [
    "#### Next time we'll go over dictionaries, which will be useful for finding values given a key."
   ]
  }
 ],
 "metadata": {
  "kernelspec": {
   "display_name": "Python 3",
   "language": "python",
   "name": "python3"
  },
  "language_info": {
   "codemirror_mode": {
    "name": "ipython",
    "version": 3
   },
   "file_extension": ".py",
   "mimetype": "text/x-python",
   "name": "python",
   "nbconvert_exporter": "python",
   "pygments_lexer": "ipython3",
   "version": "3.6.9"
  }
 },
 "nbformat": 4,
 "nbformat_minor": 2
}
